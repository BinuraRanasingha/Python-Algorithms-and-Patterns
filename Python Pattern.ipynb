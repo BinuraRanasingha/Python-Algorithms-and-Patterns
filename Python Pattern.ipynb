{
 "cells": [
  {
   "cell_type": "code",
   "execution_count": 1,
   "id": "ee188875",
   "metadata": {},
   "outputs": [
    {
     "name": "stdout",
     "output_type": "stream",
     "text": [
      "p\n",
      "py\n",
      "pyt\n",
      "pyth\n",
      "pytho\n",
      "python\n",
      "pytho\n",
      "pyth\n",
      "pyt\n",
      "py\n",
      "p\n",
      "\n"
     ]
    }
   ],
   "source": [
    "my_string = \"python\"\n",
    "x = 0\n",
    "\n",
    "for i in my_string:\n",
    "    x = x + 1\n",
    "    print(my_string[0:x])\n",
    "    \n",
    "for i in my_string:\n",
    "    x = x - 1\n",
    "    print(my_string[0:x])"
   ]
  },
  {
   "cell_type": "code",
   "execution_count": null,
   "id": "d665f908",
   "metadata": {},
   "outputs": [],
   "source": []
  }
 ],
 "metadata": {
  "kernelspec": {
   "display_name": "Python 3 (ipykernel)",
   "language": "python",
   "name": "python3"
  },
  "language_info": {
   "codemirror_mode": {
    "name": "ipython",
    "version": 3
   },
   "file_extension": ".py",
   "mimetype": "text/x-python",
   "name": "python",
   "nbconvert_exporter": "python",
   "pygments_lexer": "ipython3",
   "version": "3.9.12"
  }
 },
 "nbformat": 4,
 "nbformat_minor": 5
}
