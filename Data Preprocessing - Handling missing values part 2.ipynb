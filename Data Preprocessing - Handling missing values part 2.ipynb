{
 "cells": [
  {
   "cell_type": "markdown",
   "id": "709a8294",
   "metadata": {},
   "source": [
    "* **Imputation is the process of replacing missing data with subsitituted values.**\n",
    "\n",
    "* **SimpleImputer** -Univariate imputer for completing missing values with simple strategies. Replace missing values using a descriptive statistic like mean, median, mode along each column or using a constant value.\n",
    "\n",
    "* **enable_iterative_imputer** enables the IterativeImputer so we can import it normally.\n",
    "\n",
    "* **IterativeImputer** - Multivariate imputer that estimates each feature from all the others. A strategy for imputing missing values by modeling each feature with missing values as a function of other features in a round-robin fashion.\n",
    "\n",
    "* **KNNImputer** - Imputation for completing missing values using k-Nearest Neighbors. Each sample's missing values are imputed using the mean values from **n_neighbours** nearest neighbours found in the training set. 2 samples are close if the features that neither is missing are close."
   ]
  },
  {
   "cell_type": "code",
   "execution_count": 3,
   "id": "7e9d1b7c",
   "metadata": {},
   "outputs": [],
   "source": [
    "#Importing the necessary libraries\n",
    "import pandas as pd\n",
    "import numpy as np\n",
    "from sklearn.impute import SimpleImputer\n",
    "from sklearn.experimental import enable_iterative_imputer\n",
    "from sklearn.impute import IterativeImputer\n",
    "from sklearn.impute import KNNImputer"
   ]
  },
  {
   "cell_type": "code",
   "execution_count": 8,
   "id": "5f2c2cd3",
   "metadata": {},
   "outputs": [
    {
     "data": {
      "text/html": [
       "<div>\n",
       "<style scoped>\n",
       "    .dataframe tbody tr th:only-of-type {\n",
       "        vertical-align: middle;\n",
       "    }\n",
       "\n",
       "    .dataframe tbody tr th {\n",
       "        vertical-align: top;\n",
       "    }\n",
       "\n",
       "    .dataframe thead th {\n",
       "        text-align: right;\n",
       "    }\n",
       "</style>\n",
       "<table border=\"1\" class=\"dataframe\">\n",
       "  <thead>\n",
       "    <tr style=\"text-align: right;\">\n",
       "      <th></th>\n",
       "      <th>Mese</th>\n",
       "      <th>Cupcake</th>\n",
       "    </tr>\n",
       "  </thead>\n",
       "  <tbody>\n",
       "    <tr>\n",
       "      <th>0</th>\n",
       "      <td>2004-01</td>\n",
       "      <td>5</td>\n",
       "    </tr>\n",
       "    <tr>\n",
       "      <th>1</th>\n",
       "      <td>2004-02</td>\n",
       "      <td>5</td>\n",
       "    </tr>\n",
       "    <tr>\n",
       "      <th>2</th>\n",
       "      <td>2004-03</td>\n",
       "      <td>4</td>\n",
       "    </tr>\n",
       "    <tr>\n",
       "      <th>3</th>\n",
       "      <td>2004-04</td>\n",
       "      <td>6</td>\n",
       "    </tr>\n",
       "    <tr>\n",
       "      <th>4</th>\n",
       "      <td>2004-05</td>\n",
       "      <td>5</td>\n",
       "    </tr>\n",
       "  </tbody>\n",
       "</table>\n",
       "</div>"
      ],
      "text/plain": [
       "      Mese  Cupcake\n",
       "0  2004-01        5\n",
       "1  2004-02        5\n",
       "2  2004-03        4\n",
       "3  2004-04        6\n",
       "4  2004-05        5"
      ]
     },
     "execution_count": 8,
     "metadata": {},
     "output_type": "execute_result"
    }
   ],
   "source": [
    "#Loading the dataset\n",
    "data = pd.read_csv(\"D:\\\\SLIIT\\\\3rd year 2nd sem\\\\Fundamentals of Data Mining\\\\Coding\\\\Cupcakes.csv\")\n",
    "data.head()"
   ]
  },
  {
   "cell_type": "code",
   "execution_count": 9,
   "id": "4b93635a",
   "metadata": {},
   "outputs": [
    {
     "data": {
      "text/html": [
       "<div>\n",
       "<style scoped>\n",
       "    .dataframe tbody tr th:only-of-type {\n",
       "        vertical-align: middle;\n",
       "    }\n",
       "\n",
       "    .dataframe tbody tr th {\n",
       "        vertical-align: top;\n",
       "    }\n",
       "\n",
       "    .dataframe thead th {\n",
       "        text-align: right;\n",
       "    }\n",
       "</style>\n",
       "<table border=\"1\" class=\"dataframe\">\n",
       "  <thead>\n",
       "    <tr style=\"text-align: right;\">\n",
       "      <th></th>\n",
       "      <th>Cupcake</th>\n",
       "    </tr>\n",
       "  </thead>\n",
       "  <tbody>\n",
       "    <tr>\n",
       "      <th>count</th>\n",
       "      <td>204.000000</td>\n",
       "    </tr>\n",
       "    <tr>\n",
       "      <th>mean</th>\n",
       "      <td>49.661765</td>\n",
       "    </tr>\n",
       "    <tr>\n",
       "      <th>std</th>\n",
       "      <td>28.192482</td>\n",
       "    </tr>\n",
       "    <tr>\n",
       "      <th>min</th>\n",
       "      <td>4.000000</td>\n",
       "    </tr>\n",
       "    <tr>\n",
       "      <th>25%</th>\n",
       "      <td>25.000000</td>\n",
       "    </tr>\n",
       "    <tr>\n",
       "      <th>50%</th>\n",
       "      <td>50.000000</td>\n",
       "    </tr>\n",
       "    <tr>\n",
       "      <th>75%</th>\n",
       "      <td>73.000000</td>\n",
       "    </tr>\n",
       "    <tr>\n",
       "      <th>max</th>\n",
       "      <td>100.000000</td>\n",
       "    </tr>\n",
       "  </tbody>\n",
       "</table>\n",
       "</div>"
      ],
      "text/plain": [
       "          Cupcake\n",
       "count  204.000000\n",
       "mean    49.661765\n",
       "std     28.192482\n",
       "min      4.000000\n",
       "25%     25.000000\n",
       "50%     50.000000\n",
       "75%     73.000000\n",
       "max    100.000000"
      ]
     },
     "execution_count": 9,
     "metadata": {},
     "output_type": "execute_result"
    }
   ],
   "source": [
    "data.describe()"
   ]
  },
  {
   "cell_type": "code",
   "execution_count": 14,
   "id": "76d8c517",
   "metadata": {},
   "outputs": [
    {
     "data": {
      "text/plain": [
       "Mese       204\n",
       "Cupcake    204\n",
       "dtype: int64"
      ]
     },
     "execution_count": 14,
     "metadata": {},
     "output_type": "execute_result"
    }
   ],
   "source": [
    "data.isnull().count()"
   ]
  },
  {
   "cell_type": "code",
   "execution_count": 15,
   "id": "3913a251",
   "metadata": {},
   "outputs": [
    {
     "name": "stdout",
     "output_type": "stream",
     "text": [
      "<class 'pandas.core.frame.DataFrame'>\n",
      "RangeIndex: 204 entries, 0 to 203\n",
      "Data columns (total 2 columns):\n",
      " #   Column   Non-Null Count  Dtype \n",
      "---  ------   --------------  ----- \n",
      " 0   Mese     204 non-null    object\n",
      " 1   Cupcake  204 non-null    int64 \n",
      "dtypes: int64(1), object(1)\n",
      "memory usage: 3.3+ KB\n"
     ]
    }
   ],
   "source": [
    "data.info()"
   ]
  },
  {
   "cell_type": "markdown",
   "id": "5ef2a5cd",
   "metadata": {},
   "source": [
    "# Univariate Feature Imputation"
   ]
  },
  {
   "cell_type": "code",
   "execution_count": 4,
   "id": "b07a6e6a",
   "metadata": {},
   "outputs": [],
   "source": [
    "preprocessor = SimpleImputer(missing_values=np.nan, strategy='mean')"
   ]
  },
  {
   "cell_type": "code",
   "execution_count": 16,
   "id": "3b585429",
   "metadata": {},
   "outputs": [
    {
     "data": {
      "text/plain": [
       "SimpleImputer()"
      ]
     },
     "execution_count": 16,
     "metadata": {},
     "output_type": "execute_result"
    }
   ],
   "source": [
    "X = np.array(data['Cupcake']).reshape(-1,1)\n",
    "preprocessor.fit(X)"
   ]
  },
  {
   "cell_type": "code",
   "execution_count": 18,
   "id": "02d3c960",
   "metadata": {},
   "outputs": [],
   "source": [
    "X_prep = preprocessor.transform(X)"
   ]
  },
  {
   "cell_type": "code",
   "execution_count": 20,
   "id": "befec4da",
   "metadata": {},
   "outputs": [
    {
     "data": {
      "text/html": [
       "<div>\n",
       "<style scoped>\n",
       "    .dataframe tbody tr th:only-of-type {\n",
       "        vertical-align: middle;\n",
       "    }\n",
       "\n",
       "    .dataframe tbody tr th {\n",
       "        vertical-align: top;\n",
       "    }\n",
       "\n",
       "    .dataframe thead th {\n",
       "        text-align: right;\n",
       "    }\n",
       "</style>\n",
       "<table border=\"1\" class=\"dataframe\">\n",
       "  <thead>\n",
       "    <tr style=\"text-align: right;\">\n",
       "      <th></th>\n",
       "      <th>Mese</th>\n",
       "      <th>Cupcake</th>\n",
       "      <th>Cupcake_univariate</th>\n",
       "    </tr>\n",
       "  </thead>\n",
       "  <tbody>\n",
       "    <tr>\n",
       "      <th>0</th>\n",
       "      <td>2004-01</td>\n",
       "      <td>5</td>\n",
       "      <td>5.0</td>\n",
       "    </tr>\n",
       "    <tr>\n",
       "      <th>1</th>\n",
       "      <td>2004-02</td>\n",
       "      <td>5</td>\n",
       "      <td>5.0</td>\n",
       "    </tr>\n",
       "    <tr>\n",
       "      <th>2</th>\n",
       "      <td>2004-03</td>\n",
       "      <td>4</td>\n",
       "      <td>4.0</td>\n",
       "    </tr>\n",
       "    <tr>\n",
       "      <th>3</th>\n",
       "      <td>2004-04</td>\n",
       "      <td>6</td>\n",
       "      <td>6.0</td>\n",
       "    </tr>\n",
       "    <tr>\n",
       "      <th>4</th>\n",
       "      <td>2004-05</td>\n",
       "      <td>5</td>\n",
       "      <td>5.0</td>\n",
       "    </tr>\n",
       "  </tbody>\n",
       "</table>\n",
       "</div>"
      ],
      "text/plain": [
       "      Mese  Cupcake  Cupcake_univariate\n",
       "0  2004-01        5                 5.0\n",
       "1  2004-02        5                 5.0\n",
       "2  2004-03        4                 4.0\n",
       "3  2004-04        6                 6.0\n",
       "4  2004-05        5                 5.0"
      ]
     },
     "execution_count": 20,
     "metadata": {},
     "output_type": "execute_result"
    }
   ],
   "source": [
    "data['Cupcake_univariate'] = X_prep.reshape(1,-1)[0]\n",
    "data.head()"
   ]
  },
  {
   "cell_type": "markdown",
   "id": "ae09e300",
   "metadata": {},
   "source": [
    "# Multivariate Feature Imputation"
   ]
  },
  {
   "cell_type": "code",
   "execution_count": 21,
   "id": "146da237",
   "metadata": {},
   "outputs": [],
   "source": [
    "preprocessor = IterativeImputer(max_iter=10, random_state=0)"
   ]
  },
  {
   "cell_type": "markdown",
   "id": "a692dd4f",
   "metadata": {},
   "source": [
    "Converting the two features into arrays and transform them in the form [[f11,f21], [f12,f22] ...]. This can be done by applying the reshape() function to each feature and then the hstack() function as follows:"
   ]
  },
  {
   "cell_type": "code",
   "execution_count": 23,
   "id": "33767b01",
   "metadata": {},
   "outputs": [],
   "source": [
    "X1 = np.array(data['Cupcake']).reshape(-1,1)\n",
    "X2 = np.array(data.index).reshape(-1,1)\n",
    "X = np.hstack((X1,X2)) #Stack arrays in sequence horizontally"
   ]
  },
  {
   "cell_type": "code",
   "execution_count": 24,
   "id": "c00657ac",
   "metadata": {},
   "outputs": [
    {
     "data": {
      "text/plain": [
       "IterativeImputer(random_state=0)"
      ]
     },
     "execution_count": 24,
     "metadata": {},
     "output_type": "execute_result"
    }
   ],
   "source": [
    "preprocessor.fit(X)"
   ]
  },
  {
   "cell_type": "code",
   "execution_count": 29,
   "id": "ad1fdf4a",
   "metadata": {},
   "outputs": [],
   "source": [
    "X_prep = preprocessor.transform(X)\n",
    "data['Cupcake_multivariate'] = np.hsplit(X_prep,2)[0].reshape(1,-1)[0] #hsplit splits the array horizontally"
   ]
  },
  {
   "cell_type": "markdown",
   "id": "60136034",
   "metadata": {},
   "source": [
    "Missing values are located at position 26 and 1"
   ]
  },
  {
   "cell_type": "code",
   "execution_count": 31,
   "id": "9ad23c42",
   "metadata": {},
   "outputs": [
    {
     "data": {
      "text/plain": [
       "Mese                    2006-03\n",
       "Cupcake                      10\n",
       "Cupcake_univariate         10.0\n",
       "Cupcake_multivariate       10.0\n",
       "Name: 26, dtype: object"
      ]
     },
     "execution_count": 31,
     "metadata": {},
     "output_type": "execute_result"
    }
   ],
   "source": [
    "data.iloc[26]"
   ]
  },
  {
   "cell_type": "code",
   "execution_count": 32,
   "id": "687bc605",
   "metadata": {},
   "outputs": [
    {
     "data": {
      "text/plain": [
       "Mese                    2004-02\n",
       "Cupcake                       5\n",
       "Cupcake_univariate          5.0\n",
       "Cupcake_multivariate        5.0\n",
       "Name: 1, dtype: object"
      ]
     },
     "execution_count": 32,
     "metadata": {},
     "output_type": "execute_result"
    }
   ],
   "source": [
    "data.iloc[1]"
   ]
  },
  {
   "cell_type": "markdown",
   "id": "2ab287a4",
   "metadata": {},
   "source": [
    "# Nearest Neighbors imputation"
   ]
  },
  {
   "cell_type": "code",
   "execution_count": 35,
   "id": "b99c9bbf",
   "metadata": {},
   "outputs": [],
   "source": [
    "preprocessor = KNNImputer(n_neighbors=5,weights=\"distance\")\n",
    "preprocessor.fit(X)\n",
    "X_prep = preprocessor.transform(X)\n",
    "data['Cupcake_knn'] = np.hsplit(X_prep,2)[0].reshape(1,-1)[0]"
   ]
  },
  {
   "cell_type": "code",
   "execution_count": 36,
   "id": "9e387dd2",
   "metadata": {},
   "outputs": [
    {
     "data": {
      "text/plain": [
       "Mese                    2006-03\n",
       "Cupcake                      10\n",
       "Cupcake_univariate         10.0\n",
       "Cupcake_multivariate       10.0\n",
       "Cupcake_knn                10.0\n",
       "Name: 26, dtype: object"
      ]
     },
     "execution_count": 36,
     "metadata": {},
     "output_type": "execute_result"
    }
   ],
   "source": [
    "data.iloc[26]"
   ]
  },
  {
   "cell_type": "code",
   "execution_count": 37,
   "id": "53cb6c25",
   "metadata": {},
   "outputs": [
    {
     "data": {
      "text/plain": [
       "Mese                    2004-02\n",
       "Cupcake                       5\n",
       "Cupcake_univariate          5.0\n",
       "Cupcake_multivariate        5.0\n",
       "Cupcake_knn                 5.0\n",
       "Name: 1, dtype: object"
      ]
     },
     "execution_count": 37,
     "metadata": {},
     "output_type": "execute_result"
    }
   ],
   "source": [
    "data.iloc[1]"
   ]
  },
  {
   "cell_type": "code",
   "execution_count": null,
   "id": "ef4a1527",
   "metadata": {},
   "outputs": [],
   "source": []
  }
 ],
 "metadata": {
  "kernelspec": {
   "display_name": "Python 3 (ipykernel)",
   "language": "python",
   "name": "python3"
  },
  "language_info": {
   "codemirror_mode": {
    "name": "ipython",
    "version": 3
   },
   "file_extension": ".py",
   "mimetype": "text/x-python",
   "name": "python",
   "nbconvert_exporter": "python",
   "pygments_lexer": "ipython3",
   "version": "3.9.13"
  }
 },
 "nbformat": 4,
 "nbformat_minor": 5
}
